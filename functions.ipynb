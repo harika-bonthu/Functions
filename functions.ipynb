{
 "cells": [
  {
   "cell_type": "markdown",
   "metadata": {},
   "source": [
    "## Functions Tutorial"
   ]
  },
  {
   "cell_type": "markdown",
   "metadata": {},
   "source": [
    "### syntax to define a function"
   ]
  },
  {
   "cell_type": "code",
   "execution_count": null,
   "metadata": {},
   "outputs": [],
   "source": [
    "def FunctionName(parameter):\n",
    "    \"\"\" This is a test function \"\"\"\n",
    "    # code to do computation to the parameter\n",
    "    print(output)\n",
    "    return output"
   ]
  },
  {
   "cell_type": "markdown",
   "metadata": {},
   "source": [
    "### calling a function"
   ]
  },
  {
   "cell_type": "code",
   "execution_count": null,
   "metadata": {},
   "outputs": [],
   "source": [
    "FunctionName(argument)"
   ]
  },
  {
   "cell_type": "markdown",
   "metadata": {},
   "source": [
    "### Example Function"
   ]
  },
  {
   "cell_type": "markdown",
   "metadata": {},
   "source": [
    "###### Function with print statement"
   ]
  },
  {
   "cell_type": "code",
   "execution_count": null,
   "metadata": {},
   "outputs": [],
   "source": [
    "def print_sum(a, b):\n",
    "    \"\"\"This function prints the sum of two numbers\"\"\"\n",
    "    output = a+b\n",
    "    print(\"Sum is: \", output)\n",
    "    \n",
    "\n",
    "# driver code\n",
    "x = print_sum(10, 2)\n",
    "print(\"X is: \", x)"
   ]
  },
  {
   "cell_type": "markdown",
   "metadata": {},
   "source": [
    "###### Function with return statement"
   ]
  },
  {
   "cell_type": "code",
   "execution_count": null,
   "metadata": {},
   "outputs": [],
   "source": [
    "def return_sum(a, b):\n",
    "    \"\"\"This function returns the sum of two numbers\"\"\"\n",
    "    output = a+b\n",
    "    return output\n",
    "\n",
    "# driver code\n",
    "y = return_sum(-23, 8)\n",
    "print(\"Y is: \",y)"
   ]
  },
  {
   "cell_type": "markdown",
   "metadata": {},
   "source": [
    "## Types of Arguments"
   ]
  },
  {
   "cell_type": "markdown",
   "metadata": {},
   "source": [
    "#### Required arguments"
   ]
  },
  {
   "cell_type": "code",
   "execution_count": null,
   "metadata": {},
   "outputs": [],
   "source": [
    "def UpperCase(name):\n",
    "    formatted_name = name.title()\n",
    "    print(\"Formatted name is: \",formatted_name)\n",
    "\n",
    "# calling student function\n",
    "UpperCase()"
   ]
  },
  {
   "cell_type": "code",
   "execution_count": null,
   "metadata": {},
   "outputs": [],
   "source": [
    "UpperCase('analytics vidhya')"
   ]
  },
  {
   "cell_type": "markdown",
   "metadata": {},
   "source": [
    "#### Optional arguments"
   ]
  },
  {
   "cell_type": "code",
   "execution_count": null,
   "metadata": {},
   "outputs": [],
   "source": [
    "def multiplier(a, b=10):\n",
    "    return a * b\n",
    "    \n",
    "print(\"with default argument: \",multiplier(3))\n",
    "print(\"Changing the default argument: \",multiplier(3, 6))"
   ]
  },
  {
   "cell_type": "markdown",
   "metadata": {},
   "source": [
    "#### Positional Arguments"
   ]
  },
  {
   "cell_type": "code",
   "execution_count": null,
   "metadata": {},
   "outputs": [],
   "source": [
    "def fullname(fname, mname, lname):\n",
    "    print(\"Full Name is: \", fname + \" \" +mname + \" \" + lname)\n",
    "    \n",
    "# Harry James Potter \n",
    "fullname('Harry', 'James', 'Potter')"
   ]
  },
  {
   "cell_type": "code",
   "execution_count": null,
   "metadata": {},
   "outputs": [],
   "source": [
    "fullname('Potter', 'Harry', 'James')"
   ]
  },
  {
   "cell_type": "markdown",
   "metadata": {},
   "source": [
    "#### Keyword arguments"
   ]
  },
  {
   "cell_type": "code",
   "execution_count": null,
   "metadata": {},
   "outputs": [],
   "source": [
    "fullname(lname='Potter', fname='Harry', mname='James')"
   ]
  },
  {
   "cell_type": "markdown",
   "metadata": {},
   "source": [
    "#### Variable-length parameters"
   ]
  },
  {
   "cell_type": "code",
   "execution_count": null,
   "metadata": {},
   "outputs": [],
   "source": [
    "def variable(num1, *args, **kwargs):\n",
    "    print(\"num1: \", num1)\n",
    "    for arg in args:\n",
    "        print(\"arg: \",arg)\n",
    "    for key, value in kwargs.items():\n",
    "        print(\"kwarg: \", value)\n",
    "        \n",
    "\n",
    "variable(3, 4, 5, key1=6, key2=7)"
   ]
  },
  {
   "cell_type": "code",
   "execution_count": null,
   "metadata": {},
   "outputs": [],
   "source": [
    "def variable(num1, *args, **kwargs):\n",
    "    print(\"num1: \", num1)\n",
    "    for arg in args:\n",
    "        print(\"arg: \",arg)\n",
    "    for key, value in kwargs_dict.items():\n",
    "        print(\"kwarg: \", key, value)\n",
    "        \n",
    "list_of_args = [4, 5]\n",
    "kwargs_dict = {\n",
    "    'key1':6,\n",
    "    'key2':7\n",
    "}\n",
    "        \n",
    "variable(*list_of_args, **kwargs_dict)"
   ]
  },
  {
   "cell_type": "markdown",
   "metadata": {},
   "source": [
    "## Nested functions"
   ]
  },
  {
   "cell_type": "code",
   "execution_count": 6,
   "metadata": {},
   "outputs": [],
   "source": [
    "def mainfunction():\n",
    "    print(\"Executed Outer function\")\n",
    "    \n",
    "    def nestedfunction():\n",
    "        print('Executed Nested function')"
   ]
  },
  {
   "cell_type": "code",
   "execution_count": 7,
   "metadata": {},
   "outputs": [
    {
     "name": "stdout",
     "output_type": "stream",
     "text": [
      "Executed Outer function\n"
     ]
    }
   ],
   "source": [
    "mainfunction()"
   ]
  },
  {
   "cell_type": "code",
   "execution_count": 8,
   "metadata": {},
   "outputs": [
    {
     "ename": "NameError",
     "evalue": "name 'nestedfunction' is not defined",
     "output_type": "error",
     "traceback": [
      "\u001b[1;31m---------------------------------------------------------------------------\u001b[0m",
      "\u001b[1;31mNameError\u001b[0m                                 Traceback (most recent call last)",
      "\u001b[1;32m<ipython-input-8-7872fdf567e8>\u001b[0m in \u001b[0;36m<module>\u001b[1;34m\u001b[0m\n\u001b[1;32m----> 1\u001b[1;33m \u001b[0mnestedfunction\u001b[0m\u001b[1;33m(\u001b[0m\u001b[1;33m)\u001b[0m\u001b[1;33m\u001b[0m\u001b[1;33m\u001b[0m\u001b[0m\n\u001b[0m",
      "\u001b[1;31mNameError\u001b[0m: name 'nestedfunction' is not defined"
     ]
    }
   ],
   "source": [
    "nestedfunction()"
   ]
  },
  {
   "cell_type": "code",
   "execution_count": 9,
   "metadata": {},
   "outputs": [
    {
     "name": "stdout",
     "output_type": "stream",
     "text": [
      "Executed Outer function\n",
      "Executed Nested function\n"
     ]
    }
   ],
   "source": [
    "def mainfunction():\n",
    "    print(\"Executed Outer function\")\n",
    "    \n",
    "    def nestedfunction():\n",
    "        print('Executed Nested function')\n",
    "        \n",
    "    nestedfunction()\n",
    "    \n",
    "mainfunction()"
   ]
  },
  {
   "cell_type": "markdown",
   "metadata": {},
   "source": [
    "## Higher-order functions"
   ]
  },
  {
   "cell_type": "code",
   "execution_count": 42,
   "metadata": {},
   "outputs": [],
   "source": [
    "def add(a, b):\n",
    "    return a + b\n",
    "\n",
    "def sub(a, b):\n",
    "    return a - b\n",
    "\n",
    "def calc(func, a, b):\n",
    "    result = func(a, b)\n",
    "    print(\"Result is :\", result)"
   ]
  },
  {
   "cell_type": "code",
   "execution_count": 44,
   "metadata": {},
   "outputs": [
    {
     "name": "stdout",
     "output_type": "stream",
     "text": [
      "Result is : 10\n"
     ]
    }
   ],
   "source": [
    "calc(add, 4, 6)"
   ]
  },
  {
   "cell_type": "code",
   "execution_count": 43,
   "metadata": {},
   "outputs": [
    {
     "name": "stdout",
     "output_type": "stream",
     "text": [
      "Result is : -1\n"
     ]
    }
   ],
   "source": [
    "calc(sub, 2, 3)"
   ]
  },
  {
   "cell_type": "code",
   "execution_count": null,
   "metadata": {},
   "outputs": [],
   "source": []
  }
 ],
 "metadata": {
  "kernelspec": {
   "display_name": "Python 3",
   "language": "python",
   "name": "python3"
  },
  "language_info": {
   "codemirror_mode": {
    "name": "ipython",
    "version": 3
   },
   "file_extension": ".py",
   "mimetype": "text/x-python",
   "name": "python",
   "nbconvert_exporter": "python",
   "pygments_lexer": "ipython3",
   "version": "3.7.6"
  }
 },
 "nbformat": 4,
 "nbformat_minor": 4
}
